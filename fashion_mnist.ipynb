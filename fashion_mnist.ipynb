{
  "nbformat": 4,
  "nbformat_minor": 0,
  "metadata": {
    "colab": {
      "name": "fashion_mnist.ipynb",
      "provenance": []
    },
    "kernelspec": {
      "name": "python3",
      "display_name": "Python 3"
    }
  },
  "cells": [
    {
      "cell_type": "code",
      "metadata": {
        "id": "Y8cxv1mrRhfL",
        "colab_type": "code",
        "colab": {}
      },
      "source": [
        "import tensorflow as tf\n",
        "import numpy as np\n",
        "import matplotlib.pyplot as plt\n",
        "from tensorflow.keras.layers import Input, Conv2D, Dense, Flatten, Dropout\n",
        "from tensorflow.keras.models import Model"
      ],
      "execution_count": 25,
      "outputs": []
    },
    {
      "cell_type": "code",
      "metadata": {
        "id": "hAh-VIlBmOcS",
        "colab_type": "code",
        "colab": {
          "base_uri": "https://localhost:8080/",
          "height": 190
        },
        "outputId": "645e1a4a-cb07-4023-e032-b18ccc0e5030"
      },
      "source": [
        "fashion_mnist = tf.keras.datasets.fashion_mnist\n",
        "\n",
        "(x_train, y_train), (x_test, y_test) = fashion_mnist.load_data()\n",
        "x_train, x_test = x_train / 255.0, x_test / 255.0\n",
        "print(x_train.shape)"
      ],
      "execution_count": 26,
      "outputs": [
        {
          "output_type": "stream",
          "text": [
            "Downloading data from https://storage.googleapis.com/tensorflow/tf-keras-datasets/train-labels-idx1-ubyte.gz\n",
            "32768/29515 [=================================] - 0s 0us/step\n",
            "Downloading data from https://storage.googleapis.com/tensorflow/tf-keras-datasets/train-images-idx3-ubyte.gz\n",
            "26427392/26421880 [==============================] - 0s 0us/step\n",
            "Downloading data from https://storage.googleapis.com/tensorflow/tf-keras-datasets/t10k-labels-idx1-ubyte.gz\n",
            "8192/5148 [===============================================] - 0s 0us/step\n",
            "Downloading data from https://storage.googleapis.com/tensorflow/tf-keras-datasets/t10k-images-idx3-ubyte.gz\n",
            "4423680/4422102 [==============================] - 0s 0us/step\n",
            "(60000, 28, 28)\n"
          ],
          "name": "stdout"
        }
      ]
    },
    {
      "cell_type": "code",
      "metadata": {
        "id": "5WYTJeDemncI",
        "colab_type": "code",
        "colab": {
          "base_uri": "https://localhost:8080/",
          "height": 34
        },
        "outputId": "3a637550-5221-47df-9746-16be4b5e65c3"
      },
      "source": [
        "# Make data 3d for convolution\n",
        "\n",
        "x_train = np.expand_dims(x_train, -1)\n",
        "x_test = np.expand_dims(x_test, -1)\n",
        "print(x_train.shape)"
      ],
      "execution_count": 27,
      "outputs": [
        {
          "output_type": "stream",
          "text": [
            "(60000, 28, 28, 1)\n"
          ],
          "name": "stdout"
        }
      ]
    },
    {
      "cell_type": "code",
      "metadata": {
        "id": "lg7HURjtnC9n",
        "colab_type": "code",
        "colab": {
          "base_uri": "https://localhost:8080/",
          "height": 34
        },
        "outputId": "8db5560c-e096-487f-9d16-459351b2a525"
      },
      "source": [
        "K = len(set(y_train))\n",
        "# find number of classes\n",
        "print(f\"Number of classes: {K}\")"
      ],
      "execution_count": 29,
      "outputs": [
        {
          "output_type": "stream",
          "text": [
            "Number of classes: 10\n"
          ],
          "name": "stdout"
        }
      ]
    },
    {
      "cell_type": "code",
      "metadata": {
        "id": "Dzzz6pV4nNoi",
        "colab_type": "code",
        "colab": {}
      },
      "source": [
        "# Building the model\n",
        "i = Input(shape=x_train[0].shape)\n",
        "x = Conv2D(32, (3, 3), strides=2, activation='relu')(i)\n",
        "x = Conv2D(64, (3, 3), strides=2, activation='relu')(x)\n",
        "x = Conv2D(128, (3, 3), strides=2, activation='relu')(x)\n",
        "x = Flatten()(x)\n",
        "x = Dropout(0.2)(x)\n",
        "x = Dense(512, activation='relu')(x)\n",
        "x = Dropout(0.2)(x)\n",
        "x = Dense(K, activation='softmax')(x)\n",
        "\n",
        "model = Model(i, x)"
      ],
      "execution_count": 30,
      "outputs": []
    },
    {
      "cell_type": "code",
      "metadata": {
        "id": "uoHG8IsjoCn6",
        "colab_type": "code",
        "colab": {
          "base_uri": "https://localhost:8080/",
          "height": 547
        },
        "outputId": "391db002-bbb5-47d1-c3ad-09c4ccc948ce"
      },
      "source": [
        "# Complile/fit the model\n",
        "model.compile(optimizer='adam',\n",
        "              loss='sparse_categorical_crossentropy',\n",
        "              metrics=['accuracy'])\n",
        "\n",
        "r = model.fit(x_train, y_train, validation_data=(x_test, y_test), epochs=15)"
      ],
      "execution_count": 31,
      "outputs": [
        {
          "output_type": "stream",
          "text": [
            "Epoch 1/15\n",
            "1875/1875 [==============================] - 30s 16ms/step - loss: 0.5249 - accuracy: 0.8046 - val_loss: 0.3913 - val_accuracy: 0.8534\n",
            "Epoch 2/15\n",
            "1875/1875 [==============================] - 28s 15ms/step - loss: 0.3556 - accuracy: 0.8679 - val_loss: 0.3360 - val_accuracy: 0.8732\n",
            "Epoch 3/15\n",
            "1875/1875 [==============================] - 28s 15ms/step - loss: 0.3063 - accuracy: 0.8854 - val_loss: 0.3107 - val_accuracy: 0.8861\n",
            "Epoch 4/15\n",
            "1875/1875 [==============================] - 28s 15ms/step - loss: 0.2773 - accuracy: 0.8945 - val_loss: 0.3100 - val_accuracy: 0.8881\n",
            "Epoch 5/15\n",
            "1875/1875 [==============================] - 28s 15ms/step - loss: 0.2516 - accuracy: 0.9052 - val_loss: 0.2897 - val_accuracy: 0.8918\n",
            "Epoch 6/15\n",
            "1875/1875 [==============================] - 28s 15ms/step - loss: 0.2322 - accuracy: 0.9117 - val_loss: 0.3088 - val_accuracy: 0.8921\n",
            "Epoch 7/15\n",
            "1875/1875 [==============================] - 28s 15ms/step - loss: 0.2138 - accuracy: 0.9192 - val_loss: 0.3061 - val_accuracy: 0.8928\n",
            "Epoch 8/15\n",
            "1875/1875 [==============================] - 28s 15ms/step - loss: 0.1958 - accuracy: 0.9250 - val_loss: 0.3030 - val_accuracy: 0.9042\n",
            "Epoch 9/15\n",
            "1875/1875 [==============================] - 28s 15ms/step - loss: 0.1836 - accuracy: 0.9296 - val_loss: 0.3034 - val_accuracy: 0.8972\n",
            "Epoch 10/15\n",
            "1875/1875 [==============================] - 29s 15ms/step - loss: 0.1724 - accuracy: 0.9354 - val_loss: 0.3005 - val_accuracy: 0.9041\n",
            "Epoch 11/15\n",
            "1875/1875 [==============================] - 29s 15ms/step - loss: 0.1618 - accuracy: 0.9372 - val_loss: 0.3330 - val_accuracy: 0.8946\n",
            "Epoch 12/15\n",
            "1875/1875 [==============================] - 29s 16ms/step - loss: 0.1525 - accuracy: 0.9428 - val_loss: 0.3287 - val_accuracy: 0.8998\n",
            "Epoch 13/15\n",
            "1875/1875 [==============================] - 29s 15ms/step - loss: 0.1437 - accuracy: 0.9449 - val_loss: 0.3429 - val_accuracy: 0.8979\n",
            "Epoch 14/15\n",
            "1875/1875 [==============================] - 29s 15ms/step - loss: 0.1326 - accuracy: 0.9487 - val_loss: 0.3537 - val_accuracy: 0.9030\n",
            "Epoch 15/15\n",
            "1875/1875 [==============================] - 28s 15ms/step - loss: 0.1288 - accuracy: 0.9496 - val_loss: 0.3642 - val_accuracy: 0.9017\n"
          ],
          "name": "stdout"
        }
      ]
    },
    {
      "cell_type": "code",
      "metadata": {
        "id": "1SE9Zxz2qNs4",
        "colab_type": "code",
        "colab": {
          "base_uri": "https://localhost:8080/",
          "height": 282
        },
        "outputId": "86ce08b7-ff49-479d-d793-1e5e11782f7c"
      },
      "source": [
        "# Analysis of model in terms of loss per iteration \n",
        "\n",
        "import matplotlib.pyplot as plt\n",
        "plt.plot(r.history['loss'], label='Loss')\n",
        "plt.plot(r.history['val_loss'], label='Validation Loss')\n",
        "plt.legend()"
      ],
      "execution_count": 33,
      "outputs": [
        {
          "output_type": "execute_result",
          "data": {
            "text/plain": [
              "<matplotlib.legend.Legend at 0x7f33b72f7c50>"
            ]
          },
          "metadata": {
            "tags": []
          },
          "execution_count": 33
        },
        {
          "output_type": "display_data",
          "data": {
            "image/png": "[encoded data removed]",
            "text/plain": [
              "<Figure size 432x288 with 1 Axes>"
            ]
          },
          "metadata": {
            "tags": [],
            "needs_background": "light"
          }
        }
      ]
    },
    {
      "cell_type": "code",
      "metadata": {
        "id": "R78cnOXdqlbz",
        "colab_type": "code",
        "colab": {
          "base_uri": "https://localhost:8080/",
          "height": 282
        },
        "outputId": "8ef55822-6ef3-4dad-fea5-c87b37117fd3"
      },
      "source": [
        "# Analysis of model in terms of accuracy\n",
        "\n",
        "plt.plot(r.history['accuracy'], label='Accuracy')\n",
        "plt.plot(r.history['val_accuracy'], label='Validation Accuracy')\n",
        "plt.legend()"
      ],
      "execution_count": 34,
      "outputs": [
        {
          "output_type": "execute_result",
          "data": {
            "text/plain": [
              "<matplotlib.legend.Legend at 0x7f33b840f0f0>"
            ]
          },
          "metadata": {
            "tags": []
          },
          "execution_count": 34
        },
        {
          "output_type": "display_data",
          "data": {
            "image/png": "[encoded data removed]",
            "text/plain": [
              "<Figure size 432x288 with 1 Axes>"
            ]
          },
          "metadata": {
            "tags": [],
            "needs_background": "light"
          }
        }
      ]
    },
    {
      "cell_type": "code",
      "metadata": {
        "id": "KXy1H0Iyq_B3",
        "colab_type": "code",
        "colab": {
          "base_uri": "https://localhost:8080/",
          "height": 282
        },
        "outputId": "81649e61-098b-4d8f-9b5e-17f2f795057c"
      },
      "source": [
        "# Visually look at the model's accuracy\n",
        "image_index = 123 # test data is from 0-9999\n",
        "\n",
        "# Classes:\n",
        "# 0 T-shirt/top\n",
        "# 1 Trouser\n",
        "# 2 Pullover\n",
        "# 3 Dress\n",
        "# 4 Coat\n",
        "# 5 Sandal\n",
        "# 6 Shirt\n",
        "# 7 Sneaker\n",
        "# 8 Bag\n",
        "# 9 Ankle boot\n",
        "\n",
        "plt.imshow(x_test[image_index].reshape(28, 28), cmap='Greys')\n",
        "plt.imshow(x_test[image_index].reshape(28, 28),cmap='Greys')\n",
        "acc = model.predict(x_test[image_index].reshape(1, 28, 28, 1))\n",
        "print(f\"Predicted: {acc.argmax()}. Answer: {y_test[image_index]}.\")"
      ],
      "execution_count": 50,
      "outputs": [
        {
          "output_type": "stream",
          "text": [
            "Predicted: 9. Answer: 9.\n"
          ],
          "name": "stdout"
        },
        {
          "output_type": "display_data",
          "data": {
            "image/png": "[encoded data removed]",
            "text/plain": [
              "<Figure size 432x288 with 1 Axes>"
            ]
          },
          "metadata": {
            "tags": [],
            "needs_background": "light"
          }
        }
      ]
    },
    {
      "cell_type": "code",
      "metadata": {
        "id": "qKnn8_2stm62",
        "colab_type": "code",
        "colab": {
          "base_uri": "https://localhost:8080/",
          "height": 282
        },
        "outputId": "b992818e-c83e-45c3-fddd-0c77d94cee96"
      },
      "source": [
        "# Example of misclassified fashion item\n",
        "image_index = 44 # test data is from 0-9999\n",
        "\n",
        "plt.imshow(x_test[image_index].reshape(28, 28), cmap='Greys')\n",
        "plt.imshow(x_test[image_index].reshape(28, 28),cmap='Greys')\n",
        "acc = model.predict(x_test[image_index].reshape(1, 28, 28, 1))\n",
        "print(f\"Predicted: {acc.argmax()}. Answer: {y_test[image_index]}.\")"
      ],
      "execution_count": 51,
      "outputs": [
        {
          "output_type": "stream",
          "text": [
            "Predicted: 4. Answer: 6.\n"
          ],
          "name": "stdout"
        },
        {
          "output_type": "display_data",
          "data": {
            "image/png": "[encoded data removed]",
            "text/plain": [
              "<Figure size 432x288 with 1 Axes>"
            ]
          },
          "metadata": {
            "tags": [],
            "needs_background": "light"
          }
        }
      ]
    }
  ]
}